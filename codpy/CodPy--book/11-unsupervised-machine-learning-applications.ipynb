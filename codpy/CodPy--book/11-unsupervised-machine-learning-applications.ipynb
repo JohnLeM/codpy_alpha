{
 "cells": [
  {
   "cell_type": "raw",
   "id": "ba9ea9eb",
   "metadata": {},
   "source": [
    "---\n",
    "output:\n",
    "  pdf_document:\n",
    "    keep_tex: yes\n",
    "    includes:\n",
    "      in_header: preamble.tex\n",
    "  html_document: default\n",
    "  word_document: default\n",
    "---"
   ]
  },
  {
   "cell_type": "code",
   "execution_count": null,
   "id": "83c94589",
   "metadata": {
    "code": "#R_CODE#xfun::read_utf8('preamble.R')",
    "lines_to_next_cell": 2,
    "tags": [
     "remove_cell"
    ]
   },
   "outputs": [],
   "source": [
    "%%R\n"
   ]
  },
  {
   "cell_type": "code",
   "execution_count": null,
   "id": "384e8210",
   "metadata": {
    "lines_to_next_cell": 2,
    "tags": [
     "remove_input",
     "remove_output"
    ]
   },
   "outputs": [],
   "source": [
    "from preamble import *\n",
    "plt.close('all')\n",
    "from clusteringCHK import *\n",
    "codpy_param = {'rescale:xmax': 1000,\n",
    "'rescale:seed':42,\n",
    "'sharp_discrepancy:xmax':1000,\n",
    "'sharp_discrepancy:seed':30,\n",
    "'sharp_discrepancy:itermax':5,\n",
    "'discrepancy:xmax':500,\n",
    "'discrepancy:ymax':500,\n",
    "'discrepancy:zmax':500,\n",
    "'discrepancy:nmax':2000,\n",
    "'validator_compute': ['accuracy_score','discrepancy_error','norm']}\n",
    "MNIST_data_generator_ = MNIST_data_generator()"
   ]
  },
  {
   "cell_type": "markdown",
   "id": "94c7b6ea",
   "metadata": {},
   "source": [
    "# Application for unsupervised machine learning\n",
    "\n",
    "In this section we apply some clustering methods for a number of use cases.\n",
    "\n",
    "We benchmarked our kernel-based algorithms, see section \\@ref(a-kernel-based-clustering-algorithm) against the popular k-means algorithms. Both are distance-based minimization algorithms, aiming to solve the problem \\@ref{eq:dist}, that we recall here\n",
    "\n",
    "\\[\n",
    "y = \\arg \\inf_{y \\in \\RR^{N_y \\times D}} d(x,y)\n",
    "\\]\n",
    "The clusters $y\\in \\RR^{N_y \\times D}$ are the results of this minimization algorithm, where :\n",
    "\n",
    "* For k-means based algorithms, the distance is called the *inertia*, see section \\@ref(inertia).\n",
    "\n",
    "* For kernel-based algorithms, the distance is called the *discrepancy error*, see section \\@ref(discrepancy-error-1).\n",
    "\n",
    "Importantly, if the distance functional $d(x,y)$ is not convex, then a solution to \\@ref(eq:dist) might not be unique. For instance, a k-mean based algorithm usually output different clusters output at different runs.\n"
   ]
  },
  {
   "cell_type": "code",
   "execution_count": null,
   "id": "bdf4c754",
   "metadata": {
    "lines_to_next_cell": 2
   },
   "outputs": [],
   "source": [
    "codpy_param = {'rescale:xmax': 1000,\n",
    "'rescale:seed':42,\n",
    "'sharp_discrepancy:xmax':1000,\n",
    "'sharp_discrepancy:seed':30,\n",
    "'sharp_discrepancy:itermax':5,\n",
    "'discrepancy:xmax':500,\n",
    "'discrepancy:ymax':500,\n",
    "'discrepancy:zmax':500,\n",
    "'discrepancy:nmax':2000,\n",
    "'num_threads':25,\n",
    "'validator_compute':['accuracy_score','discrepancy_error','inertia']}"
   ]
  },
  {
   "cell_type": "markdown",
   "id": "559eac37",
   "metadata": {},
   "source": [
    "## Classification problem: handwritten digits\n",
    "\n",
    "The MNIST test is also studied in the section \\@ref(short-introduction-to-MNIST). Here we consider it as a semi-supervised learning: we use the train set $x \\in \\mathbb{R}^{N_x \\times D}$ to compute the cluster's centroids $y \\in \\mathbb{R}^{N_y \\times D}$. Then we use these clusters to predict the test labels $f_z \\in \\mathbb{R}^{N_z \\times D_f}$, corresponding to the test set $z \\in \\mathbb{R}^{N_z \\times D}$.\n",
    "\n",
    "The following lines define our setting for this test."
   ]
  },
  {
   "cell_type": "code",
   "execution_count": null,
   "id": "b247271e",
   "metadata": {
    "lines_to_next_cell": 2
   },
   "outputs": [],
   "source": [
    "set_kernel = set_gaussian_kernel\n",
    "scenarios_list = [ (-1, 1000, 2**i,1000) for i in np.arange(7,9,1)]\n",
    "scenario_generator_ = scenario_generator()"
   ]
  },
  {
   "cell_type": "markdown",
   "id": "b3f10403",
   "metadata": {},
   "source": [
    "### Scikit k-means\n",
    "\n",
    "First we use Scikit's k-means algorithm implementation, which is simply partitioning the input data $x \\in \\mathbb{R}^{N_x \\times D}$ into $Ny$ sets so as to minimize the within-cluster sum of squares, which is defined as \"inertia\", see \\@ref(inertia). The inertia represents the sum of distances of all points to the centroid $y \\in \\mathbb{R}^{N_y \\times D}$ in a cluster. K-means algorithm starts with a group of randomly initialized centroids and then performs iterative calculations to optimize the position of centroids until the centroids stabilizes, or the defined number of iterations is reached."
   ]
  },
  {
   "cell_type": "code",
   "execution_count": null,
   "id": "03a81bec",
   "metadata": {},
   "outputs": [],
   "source": [
    "scenario_generator_.run_scenarios(scenarios_list,MNIST_data_generator(),scikitClusterClassifier(set_kernel = set_kernel),cluster_accumulator(),**codpy_param)\n",
    "results = scenario_generator_.accumulator.get_output_datas().dropna(axis=1)"
   ]
  },
  {
   "cell_type": "markdown",
   "id": "3358de13",
   "metadata": {},
   "source": [
    "The result of k-means algorithm is $N_y$ clusters in $D=784$ dimensions, i.e. $y \\in \\mathbb{R}^{N_y\\times D}$. Note that the cluster centroids themselves are 784-dimensional points, and can themselves be interpreted as the \"typical\" digit within the cluster. The figure \\@ref(fig:847) plots some examples of computed clusters, interpreted as images. As can be seen, they are perfectly recognizable."
   ]
  },
  {
   "cell_type": "code",
   "execution_count": null,
   "id": "e1f862fe",
   "metadata": {
    "fig.cap": "k-means scikit clusters interpreted as images",
    "fig.fullwidth": true,
    "fig.height": 0.1,
    "fig.width": 10,
    "label": 847
   },
   "outputs": [],
   "source": [
    "multi_plot(scenario_generator_.accumulator.get_ys(),fun_plot = show_mnist_pictures,mp_ncols = 1, mp_max_items = 10)"
   ]
  },
  {
   "cell_type": "markdown",
   "id": "94639baf",
   "metadata": {},
   "source": [
    "The table \\@ref(tab:848) displays the dimension of the problem $D$, the size of training set $Nx$, the number of clusters $Ny$, the size of the test set $Nz$, the execution time, inertia and discrepancy errors, scores. The higher the scores and the lower are the inertia and discrepancy errors the better. "
   ]
  },
  {
   "cell_type": "code",
   "execution_count": null,
   "id": "761d9ed5",
   "metadata": {
    "fig.cap": "scikit performance indicators",
    "label": 848
   },
   "outputs": [],
   "source": [
    "%%R\n",
    "knitr::kable(py$results, caption = \"Scikit: Ny clusters\") %>%\n",
    "  kable_styling(latex_options = \"HOLD_position\")"
   ]
  },
  {
   "cell_type": "markdown",
   "id": "c936129e",
   "metadata": {},
   "source": [
    "### Scikit minibatch k-mean\n",
    "\n",
    "We replicate our previous tests for a different scikit algorithm, that is mini batch. Minibatch is a k-mean algorithm that is optimized for computational time."
   ]
  },
  {
   "cell_type": "code",
   "execution_count": null,
   "id": "140038fe",
   "metadata": {},
   "outputs": [],
   "source": [
    "scenario_generator_.run_scenarios(scenarios_list,MNIST_data_generator(),MinibatchClusterClassifier(set_kernel = set_kernel),cluster_accumulator(),**codpy_param)\n",
    "results = scenario_generator_.accumulator.get_output_datas().dropna(axis=1)"
   ]
  },
  {
   "cell_type": "markdown",
   "id": "08cb89f1",
   "metadata": {},
   "source": [
    "The figure \\@ref(fig:827) plots some examples of computed clusters, interpreted as images. "
   ]
  },
  {
   "cell_type": "code",
   "execution_count": null,
   "id": "cac1b70a",
   "metadata": {
    "fig.cap": "k-means scikit clusters interpreted as images",
    "fig.fullwidth": true,
    "fig.height": 0.1,
    "fig.width": 10,
    "label": 827
   },
   "outputs": [],
   "source": [
    "multi_plot(scenario_generator_.accumulator.get_ys(),fun_plot = show_mnist_pictures,mp_ncols = 1, mp_max_items = 10)"
   ]
  },
  {
   "cell_type": "markdown",
   "id": "b1b6f4ee",
   "metadata": {},
   "source": [
    "The table \\@ref(tab:828) displays the performance indicator for this test. "
   ]
  },
  {
   "cell_type": "code",
   "execution_count": null,
   "id": "d75637cc",
   "metadata": {
    "fig.cap": "scikit performance indicators",
    "label": 828
   },
   "outputs": [],
   "source": [
    "%%R\n",
    "knitr::kable(py$results, caption = \"Scikit: Ny clusters\") %>%\n",
    "  kable_styling(latex_options = \"HOLD_position\")"
   ]
  },
  {
   "cell_type": "markdown",
   "id": "51bd5eff",
   "metadata": {},
   "source": [
    "### Codpy\n",
    "\n",
    "In this section we apply codpy's algorithm described in \\@ref(a-kernel-based-clustering-algorithm) using the distance $d_k(x,y)$ induced by a Gaussian kernel:\n",
    "$$\n",
    "k(x,y)=\\exp(-(x-y)^2)\n",
    "$$\n",
    "We repeat the same test as in the previous section. We first run all scenarios."
   ]
  },
  {
   "cell_type": "code",
   "execution_count": null,
   "id": "7e17420d",
   "metadata": {},
   "outputs": [],
   "source": [
    "scenario_generator_.run_scenarios(scenarios_list,MNIST_data_generator(),codpyClusterClassifier(set_kernel = set_kernel),cluster_accumulator(),**codpy_param)\n",
    "results = scenario_generator_.accumulator.get_output_datas().dropna(axis=1)"
   ]
  },
  {
   "cell_type": "markdown",
   "id": "3bcc36ff",
   "metadata": {},
   "source": [
    "Then we dispay figure \\@ref(fig:858) some computed clusters as images, and as for k-means, notice that these are recognizable numbers."
   ]
  },
  {
   "cell_type": "code",
   "execution_count": null,
   "id": "19cf3999",
   "metadata": {
    "fig.cap": "codpy clusters interpreted as images",
    "fig.fullwidth": true,
    "fig.height": 0.1,
    "fig.width": 10,
    "label": 858
   },
   "outputs": [],
   "source": [
    "multi_plot(scenario_generator_.accumulator.get_ys(),fun_plot = show_mnist_pictures,mp_ncols = 1, mp_max_items = 10)"
   ]
  },
  {
   "cell_type": "markdown",
   "id": "74909ab0",
   "metadata": {},
   "source": [
    "The table \\@ref(tab:849) displays computed performance indicators for all scenarios. "
   ]
  },
  {
   "cell_type": "code",
   "execution_count": null,
   "id": "19142445",
   "metadata": {
    "fig.cap": "codpy performance indicators",
    "label": 849,
    "lines_to_next_cell": 0
   },
   "outputs": [],
   "source": [
    "%%R\n",
    "knitr::kable(py$results, caption = \"codpy: Ny clusters\") %>%\n",
    "  kable_styling(latex_options = \"HOLD_position\")"
   ]
  },
  {
   "cell_type": "markdown",
   "id": "5faf8344",
   "metadata": {},
   "source": []
  },
  {
   "cell_type": "markdown",
   "id": "5036c88d",
   "metadata": {},
   "source": [
    "### Benchmarks results\n",
    "\n",
    "Finally, we illustrate a benchmark plot, displaying the computed performance indicator of Scikit's k-means and codpy's sharp discrepancy algorithms in terms of discrepancy errors, inertia, accuracy scores (when applicable) and execution time."
   ]
  },
  {
   "cell_type": "code",
   "execution_count": null,
   "id": "8da70d40",
   "metadata": {
    "name": "tMNIST"
   },
   "outputs": [],
   "source": [
    "scenario_generator_.compare_plots(\n",
    "    axis_field_labels = [(\"Ny\",\"scores\"),(\"Ny\",\"discrepancy_errors\"),(\"Ny\",\"inertia\"),(\"Ny\",\"execution_time\")])"
   ]
  },
  {
   "cell_type": "markdown",
   "id": "059c0894",
   "metadata": {},
   "source": [
    "Notice that the score are quite high, when compared to supervised methods for similar size of training set, see results section \\@ref(apps-i---supervised-machine-learning-applications). Notice also that codpy, which algorithm relies on a discrepancy distance minimization, displays an inertia indicator that is lower than minibatch, and quite comparable to k-means. This is surprizing as k-means algorithms are based on inertia minimization. Moreover, scores seems to indicate than the disrepancy distance is a more reliable criteria than inertia on this pattern recognition problem.\n",
    "\n",
    "## German credit risk\n",
    "\n",
    "The original dataset contains 1000 entries with 20 categorial/symbolic attributes. In this dataset, each entry represents a person who takes a credit by a bank. The goal is to categorize each person as good or bad credit risks according to the set of attributes. The dataset is described on [kaggle page link](https://www.kaggle.com/uciml/german-credit)."
   ]
  },
  {
   "cell_type": "markdown",
   "id": "3560e4bb",
   "metadata": {},
   "source": [
    "The following lines define our setting for this test."
   ]
  },
  {
   "cell_type": "code",
   "execution_count": null,
   "id": "44e9c746",
   "metadata": {
    "lines_to_next_cell": 2
   },
   "outputs": [],
   "source": [
    "scenarios_list = [(-1, -1, i,-1) for i in range(10, 21,10)]\n",
    "scenario_generator_ = scenario_generator()"
   ]
  },
  {
   "cell_type": "markdown",
   "id": "56eda9d0",
   "metadata": {},
   "source": [
    "### Scikit\n",
    "\n",
    "The tests follows the very same method as in the previous section. We first run our scenarios in the following line."
   ]
  },
  {
   "cell_type": "code",
   "execution_count": null,
   "id": "6e2d72c3",
   "metadata": {},
   "outputs": [],
   "source": [
    "scenario_generator_.run_scenarios(scenarios_list,german_credit_data_generator(),scikitClusterPredictor(set_kernel = set_kernel),cluster_accumulator(),**codpy_param)\n",
    "results = scenario_generator_.accumulator.get_output_datas().dropna(axis=1)"
   ]
  },
  {
   "cell_type": "markdown",
   "id": "fdb80a6a",
   "metadata": {},
   "source": [
    "The result of k-means algorithm is $Ny$ clusters in $D$ dimensions. Notice that the cluster centroids themselves are $D$-dimensional points.\n",
    "\n",
    "Next we visualize the clusters and corresponding centroids of scikit, where we vary the number of clusters $Ny$ from 1 to 8. Obviously in this example we see that the high number of clusters leads to overfitting and one is unable to interpret the resulting clusters when $Ny = 8$."
   ]
  },
  {
   "cell_type": "code",
   "execution_count": null,
   "id": "9929ea7b",
   "metadata": {},
   "outputs": [],
   "source": [
    "scenario_generator_.accumulator.plot_clusters(**codpy_param)"
   ]
  },
  {
   "cell_type": "markdown",
   "id": "6dd906b7",
   "metadata": {},
   "source": [
    "The table \\@ref(tab:374) displays inertia, discrepancy errors and execution time performance indicators. \n"
   ]
  },
  {
   "cell_type": "code",
   "execution_count": null,
   "id": "66c5a6da",
   "metadata": {
    "label": 374,
    "lines_to_next_cell": 2
   },
   "outputs": [],
   "source": [
    "%%R\n",
    "knitr::kable(py$results, format=\"latex\", caption = \"performance indicator for scikit\")%>%\n",
    "  kable_styling(full_width = T,font_size = 6)"
   ]
  },
  {
   "cell_type": "markdown",
   "id": "42cbce4c",
   "metadata": {},
   "source": [
    "### Codpy\n",
    "\n",
    "In this section we apply the same methodology as in the previous sections."
   ]
  },
  {
   "cell_type": "code",
   "execution_count": null,
   "id": "792960fd",
   "metadata": {},
   "outputs": [],
   "source": [
    "scenario_generator_.run_scenarios(scenarios_list,german_credit_data_generator(),codpyClusterPredictor(set_kernel = set_kernel),cluster_accumulator(),**codpy_param)\n",
    "results = scenario_generator_.accumulator.get_output_datas().dropna(axis=1)"
   ]
  },
  {
   "cell_type": "markdown",
   "id": "7c50f55b",
   "metadata": {
    "lines_to_next_cell": 0
   },
   "source": [
    "The result of codpy's sharp discrepancy algorithm is $Ny$ clusters in $D$ dimensions. Notice that the cluster centroids themselves are $D$-dimensional points.\n",
    "\n",
    "Next we visualize the clusters and corresponding centroids computed using codpy's sharp discrepancy algorithm, where we vary the number of clusters $Ny$ from $1$ to $8$. Obviously in this example we see that the high number of clusters leads to an overfitting and one is unable to interpret the resulting clusters when $Ny = 8$."
   ]
  },
  {
   "cell_type": "code",
   "execution_count": null,
   "id": "0bf080d8",
   "metadata": {},
   "outputs": [],
   "source": [
    "scenario_generator_.accumulator.plot_clusters(**codpy_param)"
   ]
  },
  {
   "cell_type": "markdown",
   "id": "da50ee7c",
   "metadata": {},
   "source": [
    "The table \\@ref(tab:375) displays inertia, discrepancy errors and execution time performance indicators. \n"
   ]
  },
  {
   "cell_type": "code",
   "execution_count": null,
   "id": "dea83a28",
   "metadata": {
    "label": 375,
    "lines_to_next_cell": 2
   },
   "outputs": [],
   "source": [
    "%%R\n",
    "knitr::kable(py$results, format=\"latex\", caption = \"performance indicator for codpy\")%>%\n",
    "  kable_styling(full_width = T,font_size = 6)"
   ]
  },
  {
   "cell_type": "markdown",
   "id": "da3a2340",
   "metadata": {},
   "source": [
    "### Benchmarks results\n",
    "\n",
    "Finally, we illustrate a benchmark plot, displaying the computed performance indicator of Scikit's k-means and codpy's sharp discrepancy algorithms in terms of discrepancy errors, inertia, accuracy scores (when applicable) and execution time."
   ]
  },
  {
   "cell_type": "code",
   "execution_count": null,
   "id": "b17b504c",
   "metadata": {
    "lines_to_next_cell": 2
   },
   "outputs": [],
   "source": [
    "scenario_generator_.compare_plots(\n",
    "    axis_field_labels = [(\"Ny\",\"discrepancy_errors\"),(\"Ny\",\"inertia\"),(\"Ny\",\"execution_time\")])"
   ]
  },
  {
   "cell_type": "markdown",
   "id": "d6a72a1c",
   "metadata": {},
   "source": [
    "## Credit card marketing strategy\n",
    "\n",
    "The problem can be formalized as follows.  Develop a customer segmentation to define marketing strategy. The sample dataset summarizes the usage behavior of 8,950 active credit card holders during the last 6 months. The dataset contains 17 features and 8,950 records. The data describes customer’s purchase and payment habits, such as how often a customer installment purchases, or how often they make cash advances, how much payments are made, etc. By inspecting each customer, we can find which type of purchase he/she is keen on, or if he/she prefers cash advance over purchases. The dataset is detailed on this dedicated [kaggle page](https://www.kaggle.com/arjunbhasin2013/ccdata).\n"
   ]
  },
  {
   "cell_type": "markdown",
   "id": "8c1ba1c1",
   "metadata": {},
   "source": [
    "The following lines define our setting for this test."
   ]
  },
  {
   "cell_type": "code",
   "execution_count": null,
   "id": "b1c7c3a5",
   "metadata": {},
   "outputs": [],
   "source": [
    "scenarios_list = [(-1, -1, i,-1) for i in np.arange(2,21,3)]\n",
    "scenario_generator_ = scenario_generator()"
   ]
  },
  {
   "cell_type": "markdown",
   "id": "ebb062a2",
   "metadata": {},
   "source": [
    "### Scikit\n",
    "\n",
    "First we use Scikit's k-means algorithm implementation, which is simply partitioning the input data $x \\in \\mathbb{R}^{N_x \\times D}$ into $Ny$ sets so as to minimize the within-cluster sum of squares, which is defined as \"inertia\". The inertia represents the sum of distances of all points to the centroid $y \\in \\mathbb{R}^{N_y \\times D}$ in a cluster. K-means algorithm starts with a group of randomly initialized centroids and then performs iterative calculations to optimize the position of centroids until the centroids stabilize, or the defined number of iterations is reached.\n",
    "\n"
   ]
  },
  {
   "cell_type": "code",
   "execution_count": null,
   "id": "8f87c8e5",
   "metadata": {},
   "outputs": [],
   "source": [
    "scenario_generator_.run_scenarios(scenarios_list,credit_card_data_generator(),scikitClusterPredictor(set_kernel = set_kernel),cluster_accumulator(),**codpy_param)\n",
    "results = scenario_generator_.accumulator.get_output_datas().dropna(axis=1)"
   ]
  },
  {
   "cell_type": "markdown",
   "id": "e2dc8b9d",
   "metadata": {},
   "source": [
    "The result of k-means algorithm is $Ny$ clusters in $D$ dimensions. Notice that the cluster centroids $y \\in \\mathbb{R}^{N_y \\times D}$ themselves are $D$-dimensional points.\n",
    "\n",
    "Next we visualize the clusters and corresponding centroids of scikit's k-means implementation, where we vary the number of clusters $Ny$ from $2$ to $4$."
   ]
  },
  {
   "cell_type": "code",
   "execution_count": null,
   "id": "37e4144a",
   "metadata": {
    "lines_to_next_cell": 2
   },
   "outputs": [],
   "source": [
    "scenario_generator_.accumulator.plot_clusters(**codpy_param)"
   ]
  },
  {
   "cell_type": "markdown",
   "id": "f2f564ff",
   "metadata": {},
   "source": [
    "The table below demonstrates the performance of Scikit's k-means algorithm in terms of inertia, discrepancy errors and time. "
   ]
  },
  {
   "cell_type": "code",
   "execution_count": null,
   "id": "5783c6d1",
   "metadata": {
    "lines_to_next_cell": 2
   },
   "outputs": [],
   "source": [
    "%%R\n",
    "knitr::kable(py$results, caption = \"Scikit:2,4 clusters\") %>%\n",
    "  kable_styling(latex_options = \"HOLD_position\")"
   ]
  },
  {
   "cell_type": "markdown",
   "id": "ed923a13",
   "metadata": {},
   "source": [
    "### Codpy\n",
    "\n",
    "In this section we apply the same methodology as in the previous sections.\n"
   ]
  },
  {
   "cell_type": "code",
   "execution_count": null,
   "id": "64b87843",
   "metadata": {},
   "outputs": [],
   "source": [
    "scenario_generator_.run_scenarios(scenarios_list,credit_card_data_generator(),scikitClusterPredictor(set_kernel = set_kernel),cluster_accumulator(),**codpy_param)\n",
    "results = scenario_generator_.accumulator.get_output_datas().dropna(axis=1)"
   ]
  },
  {
   "cell_type": "markdown",
   "id": "4239d4db",
   "metadata": {},
   "source": [
    "The result of codpy's sharp discrepancy algorithm is $Ny$ clusters in $D$ dimensions. Notice that the cluster centroids themselves are $D$-dimensional points.\n",
    "\n",
    "Next we visualize the clusters and corresponding centroids of codpy's sharp discrepancy algorithm, where we vary the number of clusters $Ny$ from $2$ to $4$ clusters."
   ]
  },
  {
   "cell_type": "code",
   "execution_count": null,
   "id": "f732bbfe",
   "metadata": {},
   "outputs": [],
   "source": [
    "scenario_generator_.accumulator.plot_clusters(**codpy_param)"
   ]
  },
  {
   "cell_type": "markdown",
   "id": "a798cd2d",
   "metadata": {},
   "source": [
    "The table below demonstrates the performance of codpy's sharp discrepancy algorithm in terms of inertia, discrepancy errors and time."
   ]
  },
  {
   "cell_type": "code",
   "execution_count": null,
   "id": "aeb96c0e",
   "metadata": {
    "lines_to_next_cell": 2
   },
   "outputs": [],
   "source": [
    "%%R\n",
    "knitr::kable(py$results, caption = \"Codpy:2,4 clusters\") %>%\n",
    "  kable_styling(latex_options = \"HOLD_position\")"
   ]
  },
  {
   "cell_type": "markdown",
   "id": "715e74c6",
   "metadata": {},
   "source": [
    "### Benchmarks results\n",
    "\n",
    "Finally, we illustrate a benchmark plot, displaying the computed performance indicator of Scikit's k-means and codpy's sharp discrepancy algorithms in terms of discrepancy errors, inertia, accuracy scores (when applicable) and execution time."
   ]
  },
  {
   "cell_type": "code",
   "execution_count": null,
   "id": "6ddc3c17",
   "metadata": {},
   "outputs": [],
   "source": [
    "scenario_generator_.compare_plots(\n",
    "    axis_field_labels = [(\"Ny\",\"discrepancy_errors\"),(\"Ny\",\"inertia\"),(\"Ny\",\"execution_time\")])"
   ]
  },
  {
   "cell_type": "markdown",
   "id": "727fca28",
   "metadata": {},
   "source": [
    "## Credit card fraud detection\n",
    "\n",
    "The dataset contains transactions made by credit cards in September 2013 by European cardholders.\n",
    "It presents transactions that occurred in two days, where we have $492$ frauds out of $284,807$ transactions. The dataset is highly unbalanced, the positive class (frauds) account for $0.172\\%$ of all transactions.\n",
    "\n",
    "The study addresses the fraud detection system to analyze the customer transactions in order to identify the patterns that lead to frauds. In order to facilitate this pattern recognition work, the k-means clustering algorithm is used which is an unsupervised learning algorithm and applied to find out the normal usage patterns of credit card users based on their past activity \\cite{ST2019}.\n",
    "\n",
    "It contains only numerical input variables which are the result of a PCA transformation.  The only features which have not been transformed with PCA are 'Time' and 'Amount'. Feature 'Time' contains the seconds elapsed between each transaction and the first transaction in the dataset. The feature 'Amount' is the transaction Amount, this feature can be used for example-dependant cost-sensitive learning. \n",
    "\n",
    "Feature 'Class' is the response variable and it takes value $1$ in case of fraud and $0$ otherwise. You can find more details on this Credit Card Fraud use case following this [kaggle page](https://www.kaggle.com/mlg-ulb/creditcardfraud) link."
   ]
  },
  {
   "cell_type": "code",
   "execution_count": null,
   "id": "26f9ea92",
   "metadata": {
    "lines_to_next_cell": 2
   },
   "outputs": [],
   "source": [
    "scenarios_list = [( -1, 500, i,-1 ) for i in np.arange(15,100,15)]\n",
    "scenario_generator_ = scenario_generator()"
   ]
  },
  {
   "cell_type": "markdown",
   "id": "8578b75e",
   "metadata": {},
   "source": [
    "### Scikit\n",
    "\n",
    "We run our tests in the following line."
   ]
  },
  {
   "cell_type": "code",
   "execution_count": null,
   "id": "9e1c76c6",
   "metadata": {},
   "outputs": [],
   "source": [
    "scenario_generator_.run_scenarios(scenarios_list,credit_card_fraud_data_generator(),scikitClusterClassifier(set_kernel = set_kernel),cluster_accumulator(),**codpy_param)\n",
    "results = scenario_generator_.accumulator.get_output_datas().dropna(axis=1)"
   ]
  },
  {
   "cell_type": "markdown",
   "id": "e1739e1d",
   "metadata": {},
   "source": [
    "The table \\@ref(tab:376) displays inertia, discrepancy errors and execution time performance indicators. "
   ]
  },
  {
   "cell_type": "code",
   "execution_count": null,
   "id": "a02fb3fb",
   "metadata": {
    "label": 376
   },
   "outputs": [],
   "source": [
    "%%R\n",
    "knitr::kable(py$results, caption = \"Scikit: Ny clusters\") %>%\n",
    "  kable_styling(latex_options = \"HOLD_position\")"
   ]
  },
  {
   "cell_type": "markdown",
   "id": "75c93158",
   "metadata": {},
   "source": [
    "Finally, we output as well the confusion matrix for the last scenario in figure \\@ref(fig:589)."
   ]
  },
  {
   "cell_type": "code",
   "execution_count": null,
   "id": "a209f39a",
   "metadata": {
    "fig.cap": "confusion matrix for k-means",
    "label": 589
   },
   "outputs": [],
   "source": [
    "multi_plot([scenario_generator_.predictor] ,add_confusion_matrix.plot_confusion_matrix,title='')"
   ]
  },
  {
   "cell_type": "markdown",
   "id": "f7a5c19a",
   "metadata": {},
   "source": [
    "### Codpy\n",
    "\n",
    "We repeat the same benchmark methodology as in the previous sections. We first run all scenarios."
   ]
  },
  {
   "cell_type": "code",
   "execution_count": null,
   "id": "2fa6b15c",
   "metadata": {},
   "outputs": [],
   "source": [
    "scenario_generator_.run_scenarios(scenarios_list,credit_card_fraud_data_generator(),codpyClusterClassifier(set_kernel = set_kernel),cluster_accumulator(),**codpy_param)\n",
    "results = scenario_generator_.accumulator.get_output_datas().dropna(axis=1)"
   ]
  },
  {
   "cell_type": "markdown",
   "id": "e8035872",
   "metadata": {},
   "source": [
    "The table \\@ref(tab:749) displays computed performance indicators for all scenarios. "
   ]
  },
  {
   "cell_type": "code",
   "execution_count": null,
   "id": "726f516e",
   "metadata": {
    "fig.cap": "codpy performance indicators",
    "label": 749
   },
   "outputs": [],
   "source": [
    "%%R\n",
    "knitr::kable(py$results, caption = \"codpy: Ny clusters\") %>%\n",
    "  kable_styling(latex_options = \"HOLD_position\")"
   ]
  },
  {
   "cell_type": "markdown",
   "id": "eb6a142c",
   "metadata": {},
   "source": [
    "Finally, we output as well the confusion matrix for the last scenario in figure \\@ref(fig:580)."
   ]
  },
  {
   "cell_type": "code",
   "execution_count": null,
   "id": "008310a0",
   "metadata": {
    "fig.cap": "confusion matrix for codpy",
    "label": 580,
    "lines_to_next_cell": 2
   },
   "outputs": [],
   "source": [
    "multi_plot([scenario_generator_.predictor] ,add_confusion_matrix.plot_confusion_matrix,title='')"
   ]
  },
  {
   "cell_type": "markdown",
   "id": "da2da7d1",
   "metadata": {},
   "source": [
    "### Benchmarks results\n",
    "\n",
    "Finally, we illustrate a benchmark plot, that shows the performance of Scikit's k-means and codpy's sharp discrepancy algorithms in terms of discrepancy errors, inertia, accuracy scores (when applicable) and execution time."
   ]
  },
  {
   "cell_type": "code",
   "execution_count": null,
   "id": "f31f3642",
   "metadata": {},
   "outputs": [],
   "source": [
    "scenario_generator_.compare_plots(\n",
    "    axis_field_labels = [(\"Ny\",\"scores\"),(\"Ny\",\"discrepancy_errors\"),(\"Ny\",\"inertia\"),(\"Ny\",\"execution_time\")])"
   ]
  },
  {
   "cell_type": "markdown",
   "id": "690bcfd4",
   "metadata": {},
   "source": [
    "## Portfolio of stock clustering\n",
    "\n",
    "This case represents daily stock price movements $x \\in \\mathbb{R}^{N_{x} \\times D}$ (i.e. the dollar difference between the closing and opening prices for each trading day) from 2010 to 2015.\n"
   ]
  },
  {
   "cell_type": "code",
   "execution_count": null,
   "id": "98c0833d",
   "metadata": {
    "lines_to_next_cell": 2
   },
   "outputs": [],
   "source": [
    "scenarios_list = [(-1, -1, i,-1) for i in range(10, 21,10)]\n",
    "scenario_generator_ = scenario_generator()"
   ]
  },
  {
   "cell_type": "markdown",
   "id": "0524b73b",
   "metadata": {},
   "source": [
    "### Scikit\n",
    "\n",
    "The tests follows the very same method as in the previous section. We first run our scenarios in the following line."
   ]
  },
  {
   "cell_type": "code",
   "execution_count": null,
   "id": "b39494df",
   "metadata": {},
   "outputs": [],
   "source": [
    "scenario_generator_.run_scenarios(scenarios_list,company_stock_movements_data_generator(),scikitClusterPredictor(set_kernel = set_kernel),cluster_accumulator(),**codpy_param)\n",
    "results = scenario_generator_.accumulator.get_output_datas().dropna(axis=1)\n",
    "idx = scenario_generator_.predictor.get_map_cluster_indices()"
   ]
  },
  {
   "cell_type": "markdown",
   "id": "cf0dab25",
   "metadata": {},
   "source": [
    "The table \\@ref(tab:371) displays inertia, discrepancy errors and execution time performance indicators. "
   ]
  },
  {
   "cell_type": "code",
   "execution_count": null,
   "id": "b5d43fdd",
   "metadata": {
    "label": 371
   },
   "outputs": [],
   "source": [
    "%%R\n",
    "knitr::kable(py$idx, caption = \"Scikit: Ny clusters\") %>%\n",
    "  kable_styling(latex_options = \"HOLD_position\")"
   ]
  },
  {
   "cell_type": "markdown",
   "id": "cec70159",
   "metadata": {},
   "source": [
    "k-means clusters displays stocks into coherent groups. The performance indicators for this step are the following."
   ]
  },
  {
   "cell_type": "code",
   "execution_count": null,
   "id": "172f97f4",
   "metadata": {
    "lines_to_next_cell": 2
   },
   "outputs": [],
   "source": [
    "%%R\n",
    "knitr::kable(py$results, caption = \"Ny clusters\") %>%\n",
    "  kable_styling(latex_options = \"HOLD_position\")"
   ]
  },
  {
   "cell_type": "markdown",
   "id": "9f105fad",
   "metadata": {},
   "source": [
    "### Codpy\n",
    "\n",
    "The tests follows the very same method as in the previous section. We first run our scenarios in the following line."
   ]
  },
  {
   "cell_type": "code",
   "execution_count": null,
   "id": "0b8f8497",
   "metadata": {},
   "outputs": [],
   "source": [
    "scenario_generator_.run_scenarios(scenarios_list,company_stock_movements_data_generator(),scikitClusterPredictor(set_kernel = set_kernel),cluster_accumulator(),**codpy_param)\n",
    "results = scenario_generator_.accumulator.get_output_datas().dropna(axis=1)\n",
    "idx = scenario_generator_.predictor.get_map_cluster_indices()"
   ]
  },
  {
   "cell_type": "markdown",
   "id": "8a49822d",
   "metadata": {},
   "source": [
    "The table \\@ref(tab:372) displays inertia, discrepancy errors and execution time performance indicators. "
   ]
  },
  {
   "cell_type": "code",
   "execution_count": null,
   "id": "696c6714",
   "metadata": {
    "label": 372
   },
   "outputs": [],
   "source": [
    "%%R\n",
    "knitr::kable(py$results, caption = \"Scikit: Ny clusters\") %>%\n",
    "  kable_styling(latex_options = \"HOLD_position\")"
   ]
  },
  {
   "cell_type": "markdown",
   "id": "f7da0408",
   "metadata": {},
   "source": [
    "k-means clusters displays stocks into coherent groups. The performance indicators for this step are the following."
   ]
  },
  {
   "cell_type": "code",
   "execution_count": null,
   "id": "a145d1d6",
   "metadata": {
    "lines_to_next_cell": 2,
    "warning": false
   },
   "outputs": [],
   "source": [
    "%%R\n",
    "knitr::kable(py$idx, caption = \"Codpy: Stocks' clusters\", col.names = c(\"Stocks\"))  %>%\n",
    "  kable_styling(latex_options = \"HOLD_position\")"
   ]
  },
  {
   "cell_type": "markdown",
   "id": "c2ffe61c",
   "metadata": {},
   "source": [
    "### Benchmarks results\n",
    "\n",
    "Finally, we illustrate a benchmark plot, that shows the performance of Scikit's k-means and codpy's sharp discrepancy algorithms in terms of discrepancy errors, inertia, accuracy scores (when applicable) and execution time."
   ]
  },
  {
   "cell_type": "code",
   "execution_count": null,
   "id": "8b8b310f",
   "metadata": {},
   "outputs": [],
   "source": [
    "scenario_generator_.compare_plots(\n",
    "    axis_field_labels = [(\"Ny\",\"discrepancy_errors\"),(\"Ny\",\"inertia\"),(\"Ny\",\"execution_time\")])"
   ]
  }
 ],
 "metadata": {
  "jupytext": {
   "cell_metadata_filter": "label,tags,fig.fullwidth,fig.cap,fig.width,code,fig.height,name,warning,-all",
   "main_language": "python",
   "notebook_metadata_filter": "-all"
  }
 },
 "nbformat": 4,
 "nbformat_minor": 5
}
